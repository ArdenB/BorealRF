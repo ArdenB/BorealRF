{
 "metadata": {
  "language_info": {
   "codemirror_mode": {
    "name": "ipython",
    "version": 3
   },
   "file_extension": ".py",
   "mimetype": "text/x-python",
   "name": "python",
   "nbconvert_exporter": "python",
   "pygments_lexer": "ipython3",
   "version": "3.8.6-final"
  },
  "orig_nbformat": 2,
  "kernelspec": {
   "name": "python3",
   "display_name": "Python 3.8.6 64-bit ('fire': conda)",
   "metadata": {
    "interpreter": {
     "hash": "92cec1ed49a13ff15c98dd50e089e7a80806bbdf43b05c84a7faf52e182247c0"
    }
   }
  }
 },
 "nbformat": 4,
 "nbformat_minor": 2,
 "cells": [
  {
   "source": [
    "## Test of the .csv sit location files\n",
    "Will open both .csv files and fix the location"
   ],
   "cell_type": "markdown",
   "metadata": {}
  },
  {
   "source": [
    "import sys\n",
    "import os\n",
    "if not os.getcwd().endswith(\"Boreal\"):\n",
    "\tif \"Boreal\" in os.getcwd():\n",
    "\t\tp1, p2, _ =  os.getcwd().partition(\"Boreal\")\n",
    "\t\tos.chdir(p1+p2)\n",
    "\telse:\n",
    "\t\traise OSError(\n",
    "\t\t\t\"This script was called from an unknown path. CWD can not be set\"\n",
    "\t\t\t)\n",
    "sys.path.append(os.getcwd())\n",
    "\n",
    "import pandas as pd \n",
    "import numpy as np \n",
    "\n",
    "path = \"./EWS_package/data/raw_psp/\"\n",
    "\n",
    "dfL  = pd.read_csv(f\"{path}All_sites_101218.csv\", index_col=0)\n",
    "dfS  = pd.read_csv(f\"{path}All_sites_20181012.csv\", index_col=0)\n",
    "\n",
    "dfL.equals(dfS)\n",
    "\n"
   ],
   "cell_type": "code",
   "metadata": {},
   "execution_count": 10,
   "outputs": [
    {
     "output_type": "execute_result",
     "data": {
      "text/plain": [
       "True"
      ]
     },
     "metadata": {},
     "execution_count": 10
    }
   ]
  },
  {
   "cell_type": "code",
   "execution_count": null,
   "metadata": {},
   "outputs": [],
   "source": []
  }
 ]
}